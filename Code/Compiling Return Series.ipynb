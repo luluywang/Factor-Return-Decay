{
 "cells": [
  {
   "cell_type": "markdown",
   "metadata": {},
   "source": [
    "# Cleaning Return Series for \"Death of Factors\"\n",
    "\n",
    "The goal of this notebook is to go through all of the CSV files to compile a long dataset of returns. The dataset should be structured as\n",
    "\n",
    "Metadata Columns Describing Strategies - Monthly Date - Monthly percentage return\n",
    "\n",
    "The file Data/Index.csv contains a listing of all the factors that we're studying. There's a combination of time series and cross sectional factors, as well as across different asset classes. Most of the data comes from the AQR data library"
   ]
  },
  {
   "cell_type": "markdown",
   "metadata": {},
   "source": [
    "## Cross Sectional Value + Momentum in Other Asset Classes"
   ]
  },
  {
   "cell_type": "code",
   "execution_count": 137,
   "metadata": {},
   "outputs": [],
   "source": [
    "import pandas as pd\n",
    "from pandas.tseries.offsets import MonthEnd\n",
    "import numpy as np\n",
    "from beakerx import *\n",
    "from beakerx.object import beakerx\n",
    "import seaborn as sns\n",
    "import matplotlib.pyplot as plt\n",
    "\n",
    "def drop_missing(self, var_name, inplace = True):\n",
    "    return self.loc[~pd.isnull(self[var_name]), ] \n",
    "pd.DataFrame.drop_missing = drop_missing\n",
    "\n",
    "MASTER_INDEX = ['Asset Class', 'Descriptor', 'Country']"
   ]
  },
  {
   "cell_type": "code",
   "execution_count": 138,
   "metadata": {},
   "outputs": [],
   "source": [
    "aqr_mom_value = pd.read_csv('../Data/CSV/aqr_val_momentum.csv', sep = ',')\n",
    "aqr_mom_value = aqr_mom_value.drop(['VAL', 'MOM', 'VAL^SS', 'MOM^SS', 'VAL^AA', 'MOM^AA'], axis = 1)\\\n",
    "                             .rename(index = str, columns = {'DATE': 'Month_date'})\n",
    "aqr_mom_value['Month_date'] = pd.to_datetime(aqr_mom_value.Month_date, format = '%m/%d/%Y') + MonthEnd(0)"
   ]
  },
  {
   "cell_type": "code",
   "execution_count": 139,
   "metadata": {},
   "outputs": [],
   "source": [
    "# Melt down\n",
    "aqr_mom_value_melt = aqr_mom_value.melt(id_vars = 'Month_date')\n",
    "aqr_mom_value_melt['value'] = pd.to_numeric(aqr_mom_value_melt['value'].str.replace('%', '')) / 100\n",
    "aqr_mom_value_melt = aqr_mom_value_melt.drop_missing('value')\n",
    "var_names = aqr_mom_value_melt['variable'].str.split('_', n = 2, expand = True)\n",
    "aqr_mom_value_melt['Descriptor'] = var_names[0]\n",
    "aqr_mom_value_melt['Country_Asset'] = var_names[2]\n",
    "\n",
    "# Convert to get the asset class names\n",
    "conversion_dict = {'Country_Asset': ['US90', 'UK90', 'ROE90', 'JP90', 'EQ', 'FX', 'FI', 'COM'],\n",
    "                   'Country': ['USA', 'GBR', 'EUR', 'JPN', 'WLD', 'WLD', 'WLD', 'WLD'],\n",
    "                   'Asset Class': ['Equities', 'Equities', 'Equities', 'Equities', 'Equities', 'FX', 'Bonds', 'Cmd']}\n",
    "conversion_frame = pd.DataFrame.from_dict(conversion_dict)\n",
    "\n",
    "# Join to get the names\n",
    "aqr_mom_value_melt.set_index('Country_Asset', inplace = True)\n",
    "conversion_frame.set_index('Country_Asset', inplace = True)\n",
    "aqr_mom_value_melt = aqr_mom_value_melt.join(conversion_frame)\n",
    "\n",
    "# Rename things\n",
    "aqr_mom_value_melt['Descriptor'] = ['Value' if x == 'VALLS' else ('Momentum' if x == 'MOMLS' else np.nan) for x in aqr_mom_value_melt.Descriptor]\n",
    "aqr_mom_value_melt.rename(index = str, columns = {'value': 'Month_ret'}, inplace = True)\n",
    "aqr_mom_value_melt = aqr_mom_value_melt.reset_index().drop(['Country_Asset','variable'], axis = 1)"
   ]
  },
  {
   "cell_type": "code",
   "execution_count": 140,
   "metadata": {},
   "outputs": [],
   "source": [
    "# Drop equities so you can use the longer history UMD, Value series\n",
    "aqr_mom_value_melt = aqr_mom_value_melt.loc[aqr_mom_value_melt['Asset Class'] != 'Equities']"
   ]
  },
  {
   "cell_type": "code",
   "execution_count": 141,
   "metadata": {},
   "outputs": [],
   "source": [
    "def check_data(df):\n",
    "    assert(sorted(df.columns.tolist()) == ['Asset Class', 'Country', 'Descriptor', 'Month_date', 'Month_ret'])\n",
    "    assert(df.dtypes['Month_date'].str == '<M8[ns]')\n",
    "    assert(df.reset_index().loc[df.reset_index().duplicated(['Asset Class', 'Country', 'Descriptor', 'Month_date'])].shape[0] == 0)\n",
    "check_data(aqr_mom_value_melt)"
   ]
  },
  {
   "cell_type": "code",
   "execution_count": 142,
   "metadata": {},
   "outputs": [],
   "source": [
    "aqr_mom_value_melt.set_index(MASTER_INDEX, inplace = True)"
   ]
  },
  {
   "cell_type": "code",
   "execution_count": 143,
   "metadata": {},
   "outputs": [
    {
     "data": {
      "application/vnd.jupyter.widget-view+json": {
       "model_id": "b5cf4aa4f6134fb694e37d4fe0dfb983",
       "version_major": 2,
       "version_minor": 0
      }
     },
     "metadata": {},
     "output_type": "display_data"
    }
   ],
   "source": [
    "aqr_mom_value_melt"
   ]
  },
  {
   "cell_type": "markdown",
   "metadata": {},
   "source": [
    "# Momentum, Value, and Quality for All Countries"
   ]
  },
  {
   "cell_type": "code",
   "execution_count": 144,
   "metadata": {},
   "outputs": [],
   "source": [
    "aqr_qual = pd.read_csv('../Data/CSV/aqr_quality.csv', sep = ',')\n",
    "aqr_val = pd.read_csv('../Data/CSV/aqr_value.csv', sep = ',')\n",
    "aqr_mom = pd.read_csv('../Data/CSV/aqr_cs_momentum.csv', sep = ',')\n",
    "aqr_bab = pd.read_csv('../Data/CSV/aqr_bab.csv', sep = ',')"
   ]
  },
  {
   "cell_type": "code",
   "execution_count": 145,
   "metadata": {},
   "outputs": [
    {
     "data": {
      "application/vnd.jupyter.widget-view+json": {
       "model_id": "ecc26c89660740edbc6345155fa4a2dd",
       "version_major": 2,
       "version_minor": 0
      }
     },
     "metadata": {},
     "output_type": "display_data"
    }
   ],
   "source": [
    "aqr_qual.head()"
   ]
  },
  {
   "cell_type": "code",
   "execution_count": 146,
   "metadata": {
    "scrolled": true
   },
   "outputs": [
    {
     "data": {
      "application/vnd.jupyter.widget-view+json": {
       "model_id": "cbba0c594df14bf8add11d3a862a78a2",
       "version_major": 2,
       "version_minor": 0
      }
     },
     "metadata": {},
     "output_type": "display_data"
    }
   ],
   "source": [
    "aqr_val.head()"
   ]
  },
  {
   "cell_type": "code",
   "execution_count": 147,
   "metadata": {},
   "outputs": [
    {
     "data": {
      "application/vnd.jupyter.widget-view+json": {
       "model_id": "75257722b3584d468cd8a5dfc4a57f7b",
       "version_major": 2,
       "version_minor": 0
      }
     },
     "metadata": {},
     "output_type": "display_data"
    }
   ],
   "source": [
    "aqr_mom.head()"
   ]
  },
  {
   "cell_type": "code",
   "execution_count": 148,
   "metadata": {},
   "outputs": [
    {
     "data": {
      "application/vnd.jupyter.widget-view+json": {
       "model_id": "3f53655c2dc84896b026aded5db9a824",
       "version_major": 2,
       "version_minor": 0
      }
     },
     "metadata": {},
     "output_type": "display_data"
    }
   ],
   "source": [
    "aqr_bab.head()"
   ]
  },
  {
   "cell_type": "code",
   "execution_count": 149,
   "metadata": {},
   "outputs": [],
   "source": [
    "def transform_aqr_csv_file(data, strategy_name):\n",
    "    data['Month_date'] = pd.to_datetime(data['DATE'], format = '%m/%d/%Y') + MonthEnd(0)\n",
    "    data_melt = data.drop(['DATE'], axis = 1).melt(id_vars = 'Month_date')\n",
    "    data_melt['value'] = pd.to_numeric(data_melt['value'].str.replace('%', '')) / 100\n",
    "    data_melt = data_melt.drop_missing('value')\n",
    "\n",
    "    # Make some new variables\n",
    "    data_melt = data_melt.reset_index()\n",
    "    data_melt.rename(index = str, columns = {'variable': 'Country', 'value': 'Month_ret'}, inplace = True)\n",
    "    data_melt['Asset Class'] = 'Equities'\n",
    "    data_melt['Descriptor'] = strategy_name\n",
    "\n",
    "    # Index\n",
    "    data_melt = data_melt.drop(['index'], axis = 1)\n",
    "    check_data(data_melt)\n",
    "    data_melt = data_melt.set_index(MASTER_INDEX)\n",
    "    return data_melt"
   ]
  },
  {
   "cell_type": "code",
   "execution_count": 150,
   "metadata": {},
   "outputs": [
    {
     "name": "stdout",
     "output_type": "stream",
     "text": [
      "Cleaning Value\n",
      "Cleaning Momentum\n",
      "Cleaning Quality\n",
      "Cleaning Betting Against Beta\n"
     ]
    }
   ],
   "source": [
    "aqr_raw_frames = [aqr_val, aqr_mom, aqr_qual, aqr_bab]\n",
    "aqr_names = ['Value', 'Momentum', 'Quality', 'Betting Against Beta']\n",
    "long_frames = []\n",
    "\n",
    "for aqr in zip(aqr_raw_frames, aqr_names):\n",
    "    print('Cleaning ' + aqr[1])\n",
    "    long_frames.append(transform_aqr_csv_file(aqr[0], aqr[1]))"
   ]
  },
  {
   "cell_type": "code",
   "execution_count": 151,
   "metadata": {},
   "outputs": [],
   "source": [
    "all_cleaned_aqr_equity_cross_section_strategies = pd.concat(long_frames)"
   ]
  },
  {
   "cell_type": "code",
   "execution_count": 152,
   "metadata": {
    "scrolled": true
   },
   "outputs": [
    {
     "data": {
      "text/plain": [
       "array([('Equities', 'Value', 'AUS'), ('Equities', 'Value', 'AUT'),\n",
       "       ('Equities', 'Value', 'BEL'), ('Equities', 'Value', 'CAN'),\n",
       "       ('Equities', 'Value', 'CHE'), ('Equities', 'Value', 'DEU'),\n",
       "       ('Equities', 'Value', 'DNK'), ('Equities', 'Value', 'ESP'),\n",
       "       ('Equities', 'Value', 'FIN'), ('Equities', 'Value', 'FRA'),\n",
       "       ('Equities', 'Value', 'GBR'), ('Equities', 'Value', 'GRC'),\n",
       "       ('Equities', 'Value', 'HKG'), ('Equities', 'Value', 'IRL'),\n",
       "       ('Equities', 'Value', 'ISR'), ('Equities', 'Value', 'ITA'),\n",
       "       ('Equities', 'Value', 'JPN'), ('Equities', 'Value', 'NLD'),\n",
       "       ('Equities', 'Value', 'NOR'), ('Equities', 'Value', 'NZL'),\n",
       "       ('Equities', 'Value', 'PRT'), ('Equities', 'Value', 'SGP'),\n",
       "       ('Equities', 'Value', 'SWE'), ('Equities', 'Value', 'USA'),\n",
       "       ('Equities', 'Momentum', 'AUS'), ('Equities', 'Momentum', 'AUT'),\n",
       "       ('Equities', 'Momentum', 'BEL'), ('Equities', 'Momentum', 'CAN'),\n",
       "       ('Equities', 'Momentum', 'CHE'), ('Equities', 'Momentum', 'DEU'),\n",
       "       ('Equities', 'Momentum', 'DNK'), ('Equities', 'Momentum', 'ESP'),\n",
       "       ('Equities', 'Momentum', 'FIN'), ('Equities', 'Momentum', 'FRA'),\n",
       "       ('Equities', 'Momentum', 'GBR'), ('Equities', 'Momentum', 'GRC'),\n",
       "       ('Equities', 'Momentum', 'HKG'), ('Equities', 'Momentum', 'IRL'),\n",
       "       ('Equities', 'Momentum', 'ISR'), ('Equities', 'Momentum', 'ITA'),\n",
       "       ('Equities', 'Momentum', 'JPN'), ('Equities', 'Momentum', 'NLD'),\n",
       "       ('Equities', 'Momentum', 'NOR'), ('Equities', 'Momentum', 'NZL'),\n",
       "       ('Equities', 'Momentum', 'PRT'), ('Equities', 'Momentum', 'SGP'),\n",
       "       ('Equities', 'Momentum', 'SWE'), ('Equities', 'Momentum', 'USA'),\n",
       "       ('Equities', 'Quality', 'AUS'), ('Equities', 'Quality', 'AUT'),\n",
       "       ('Equities', 'Quality', 'BEL'), ('Equities', 'Quality', 'CAN'),\n",
       "       ('Equities', 'Quality', 'CHE'), ('Equities', 'Quality', 'DEU'),\n",
       "       ('Equities', 'Quality', 'DNK'), ('Equities', 'Quality', 'ESP'),\n",
       "       ('Equities', 'Quality', 'FIN'), ('Equities', 'Quality', 'FRA'),\n",
       "       ('Equities', 'Quality', 'GBR'), ('Equities', 'Quality', 'GRC'),\n",
       "       ('Equities', 'Quality', 'HKG'), ('Equities', 'Quality', 'IRL'),\n",
       "       ('Equities', 'Quality', 'ISR'), ('Equities', 'Quality', 'ITA'),\n",
       "       ('Equities', 'Quality', 'JPN'), ('Equities', 'Quality', 'NLD'),\n",
       "       ('Equities', 'Quality', 'NOR'), ('Equities', 'Quality', 'NZL'),\n",
       "       ('Equities', 'Quality', 'PRT'), ('Equities', 'Quality', 'SGP'),\n",
       "       ('Equities', 'Quality', 'SWE'), ('Equities', 'Quality', 'USA'),\n",
       "       ('Equities', 'Betting Against Beta', 'AUS'),\n",
       "       ('Equities', 'Betting Against Beta', 'AUT'),\n",
       "       ('Equities', 'Betting Against Beta', 'BEL'),\n",
       "       ('Equities', 'Betting Against Beta', 'CAN'),\n",
       "       ('Equities', 'Betting Against Beta', 'CHE'),\n",
       "       ('Equities', 'Betting Against Beta', 'DEU'),\n",
       "       ('Equities', 'Betting Against Beta', 'DNK'),\n",
       "       ('Equities', 'Betting Against Beta', 'ESP'),\n",
       "       ('Equities', 'Betting Against Beta', 'FIN'),\n",
       "       ('Equities', 'Betting Against Beta', 'FRA'),\n",
       "       ('Equities', 'Betting Against Beta', 'GBR'),\n",
       "       ('Equities', 'Betting Against Beta', 'GRC'),\n",
       "       ('Equities', 'Betting Against Beta', 'HKG'),\n",
       "       ('Equities', 'Betting Against Beta', 'IRL'),\n",
       "       ('Equities', 'Betting Against Beta', 'ISR'),\n",
       "       ('Equities', 'Betting Against Beta', 'ITA'),\n",
       "       ('Equities', 'Betting Against Beta', 'JPN'),\n",
       "       ('Equities', 'Betting Against Beta', 'NLD'),\n",
       "       ('Equities', 'Betting Against Beta', 'NOR'),\n",
       "       ('Equities', 'Betting Against Beta', 'NZL'),\n",
       "       ('Equities', 'Betting Against Beta', 'PRT'),\n",
       "       ('Equities', 'Betting Against Beta', 'SGP'),\n",
       "       ('Equities', 'Betting Against Beta', 'SWE'),\n",
       "       ('Equities', 'Betting Against Beta', 'USA')], dtype=object)"
      ]
     },
     "execution_count": 152,
     "metadata": {},
     "output_type": "execute_result"
    }
   ],
   "source": [
    "all_cleaned_aqr_equity_cross_section_strategies.index.unique().values"
   ]
  },
  {
   "cell_type": "markdown",
   "metadata": {},
   "source": [
    "## Time Series Momentum"
   ]
  },
  {
   "cell_type": "code",
   "execution_count": 153,
   "metadata": {},
   "outputs": [],
   "source": [
    "aqr_ts = pd.read_csv('../Data/CSV/aqr_ts_momentum.csv', sep = ',')\n",
    "aqr_ts = aqr_ts.rename(index = str, columns = {'Date': 'Month_date'})\n",
    "aqr_ts_melt = aqr_ts.drop(['TSMOM'], axis = 1).melt(id_vars = 'Month_date')\n",
    "var_names = aqr_ts_melt['variable'].str.split('^', n = 1, expand = True)\n",
    "\n",
    "asset_class_dict = {'CM': 'Cmd',\n",
    "                    'EQ': 'Equities',\n",
    "                    'FI': 'Bonds',\n",
    "                    'FX': 'FX'}\n",
    "\n",
    "aqr_ts_melt['Descriptor'] = 'TS Momentum'\n",
    "aqr_ts_melt['Asset Class'] = [asset_class_dict[x] for x in var_names.iloc[:, 1]]\n",
    "aqr_ts_melt['Country'] = 'WLD'\n",
    "aqr_ts_melt['value'] = pd.to_numeric(aqr_ts_melt['value'].str.replace('%', '')) / 100\n",
    "aqr_ts_melt.drop(['variable'], axis = 1, inplace = True)\n",
    "aqr_ts_melt.rename(index = str, columns = {'value': 'Month_ret'}, inplace = True)\n",
    "aqr_ts_melt['Month_date'] = pd.to_datetime(aqr_ts_melt['Month_date'], format = '%m/%d/%Y') + MonthEnd(0)\n",
    "\n",
    "check_data(aqr_ts_melt)"
   ]
  },
  {
   "cell_type": "code",
   "execution_count": 154,
   "metadata": {},
   "outputs": [],
   "source": [
    "aqr_ts_melt = aqr_ts_melt.set_index(MASTER_INDEX)"
   ]
  },
  {
   "cell_type": "code",
   "execution_count": 155,
   "metadata": {},
   "outputs": [
    {
     "data": {
      "application/vnd.jupyter.widget-view+json": {
       "model_id": "6bbf045b5c604ace8101d7d456df49a9",
       "version_major": 2,
       "version_minor": 0
      }
     },
     "metadata": {},
     "output_type": "display_data"
    }
   ],
   "source": [
    "aqr_ts_melt"
   ]
  },
  {
   "cell_type": "markdown",
   "metadata": {},
   "source": [
    "# Carry Trade"
   ]
  },
  {
   "cell_type": "code",
   "execution_count": 156,
   "metadata": {},
   "outputs": [],
   "source": [
    "carry = pd.read_csv('../Data/CSV/adrien_carry.csv', sep = ',')\n",
    "carry = carry.rename(columns = {'Dates': 'Month_date', 'HML': 'Month_ret'})\n",
    "carry['Month_date'] = pd.to_datetime(carry['Month_date'], format = '%m/%d/%y')\n",
    "carry['Descriptor'] = 'Carry'\n",
    "carry['Asset Class'] = 'FX'\n",
    "carry['Country'] = 'WLD'\n",
    "carry.set_index(MASTER_INDEX, inplace = True)"
   ]
  },
  {
   "cell_type": "code",
   "execution_count": 157,
   "metadata": {},
   "outputs": [
    {
     "data": {
      "application/vnd.jupyter.widget-view+json": {
       "model_id": "33a135b3a8254d6898ab4d80d631620b",
       "version_major": 2,
       "version_minor": 0
      }
     },
     "metadata": {},
     "output_type": "display_data"
    }
   ],
   "source": [
    "carry.tail()"
   ]
  },
  {
   "cell_type": "markdown",
   "metadata": {},
   "source": [
    "## Combine all the data"
   ]
  },
  {
   "cell_type": "code",
   "execution_count": 158,
   "metadata": {},
   "outputs": [],
   "source": [
    "combined_factors = pd.concat([aqr_mom_value_melt, aqr_ts_melt, all_cleaned_aqr_equity_cross_section_strategies, carry], sort = False)\n",
    "store = pd.HDFStore('../Data/data.h5')\n",
    "store.put('all_factors', combined_factors)\n",
    "store.close()"
   ]
  },
  {
   "cell_type": "code",
   "execution_count": 159,
   "metadata": {},
   "outputs": [
    {
     "data": {
      "text/plain": [
       "(39820, 2)"
      ]
     },
     "execution_count": 159,
     "metadata": {},
     "output_type": "execute_result"
    }
   ],
   "source": [
    "combined_factors.shape"
   ]
  },
  {
   "cell_type": "code",
   "execution_count": 160,
   "metadata": {},
   "outputs": [
    {
     "data": {
      "text/plain": [
       "array([('Cmd', 'Value', 'WLD'), ('Cmd', 'Momentum', 'WLD'),\n",
       "       ('Bonds', 'Value', 'WLD'), ('Bonds', 'Momentum', 'WLD'),\n",
       "       ('FX', 'Value', 'WLD'), ('FX', 'Momentum', 'WLD'),\n",
       "       ('Cmd', 'TS Momentum', 'WLD'), ('Equities', 'TS Momentum', 'WLD'),\n",
       "       ('Bonds', 'TS Momentum', 'WLD'), ('FX', 'TS Momentum', 'WLD'),\n",
       "       ('Equities', 'Value', 'AUS'), ('Equities', 'Value', 'AUT'),\n",
       "       ('Equities', 'Value', 'BEL'), ('Equities', 'Value', 'CAN'),\n",
       "       ('Equities', 'Value', 'CHE'), ('Equities', 'Value', 'DEU'),\n",
       "       ('Equities', 'Value', 'DNK'), ('Equities', 'Value', 'ESP'),\n",
       "       ('Equities', 'Value', 'FIN'), ('Equities', 'Value', 'FRA'),\n",
       "       ('Equities', 'Value', 'GBR'), ('Equities', 'Value', 'GRC'),\n",
       "       ('Equities', 'Value', 'HKG'), ('Equities', 'Value', 'IRL'),\n",
       "       ('Equities', 'Value', 'ISR'), ('Equities', 'Value', 'ITA'),\n",
       "       ('Equities', 'Value', 'JPN'), ('Equities', 'Value', 'NLD'),\n",
       "       ('Equities', 'Value', 'NOR'), ('Equities', 'Value', 'NZL'),\n",
       "       ('Equities', 'Value', 'PRT'), ('Equities', 'Value', 'SGP'),\n",
       "       ('Equities', 'Value', 'SWE'), ('Equities', 'Value', 'USA'),\n",
       "       ('Equities', 'Momentum', 'AUS'), ('Equities', 'Momentum', 'AUT'),\n",
       "       ('Equities', 'Momentum', 'BEL'), ('Equities', 'Momentum', 'CAN'),\n",
       "       ('Equities', 'Momentum', 'CHE'), ('Equities', 'Momentum', 'DEU'),\n",
       "       ('Equities', 'Momentum', 'DNK'), ('Equities', 'Momentum', 'ESP'),\n",
       "       ('Equities', 'Momentum', 'FIN'), ('Equities', 'Momentum', 'FRA'),\n",
       "       ('Equities', 'Momentum', 'GBR'), ('Equities', 'Momentum', 'GRC'),\n",
       "       ('Equities', 'Momentum', 'HKG'), ('Equities', 'Momentum', 'IRL'),\n",
       "       ('Equities', 'Momentum', 'ISR'), ('Equities', 'Momentum', 'ITA'),\n",
       "       ('Equities', 'Momentum', 'JPN'), ('Equities', 'Momentum', 'NLD'),\n",
       "       ('Equities', 'Momentum', 'NOR'), ('Equities', 'Momentum', 'NZL'),\n",
       "       ('Equities', 'Momentum', 'PRT'), ('Equities', 'Momentum', 'SGP'),\n",
       "       ('Equities', 'Momentum', 'SWE'), ('Equities', 'Momentum', 'USA'),\n",
       "       ('Equities', 'Quality', 'AUS'), ('Equities', 'Quality', 'AUT'),\n",
       "       ('Equities', 'Quality', 'BEL'), ('Equities', 'Quality', 'CAN'),\n",
       "       ('Equities', 'Quality', 'CHE'), ('Equities', 'Quality', 'DEU'),\n",
       "       ('Equities', 'Quality', 'DNK'), ('Equities', 'Quality', 'ESP'),\n",
       "       ('Equities', 'Quality', 'FIN'), ('Equities', 'Quality', 'FRA'),\n",
       "       ('Equities', 'Quality', 'GBR'), ('Equities', 'Quality', 'GRC'),\n",
       "       ('Equities', 'Quality', 'HKG'), ('Equities', 'Quality', 'IRL'),\n",
       "       ('Equities', 'Quality', 'ISR'), ('Equities', 'Quality', 'ITA'),\n",
       "       ('Equities', 'Quality', 'JPN'), ('Equities', 'Quality', 'NLD'),\n",
       "       ('Equities', 'Quality', 'NOR'), ('Equities', 'Quality', 'NZL'),\n",
       "       ('Equities', 'Quality', 'PRT'), ('Equities', 'Quality', 'SGP'),\n",
       "       ('Equities', 'Quality', 'SWE'), ('Equities', 'Quality', 'USA'),\n",
       "       ('Equities', 'Betting Against Beta', 'AUS'),\n",
       "       ('Equities', 'Betting Against Beta', 'AUT'),\n",
       "       ('Equities', 'Betting Against Beta', 'BEL'),\n",
       "       ('Equities', 'Betting Against Beta', 'CAN'),\n",
       "       ('Equities', 'Betting Against Beta', 'CHE'),\n",
       "       ('Equities', 'Betting Against Beta', 'DEU'),\n",
       "       ('Equities', 'Betting Against Beta', 'DNK'),\n",
       "       ('Equities', 'Betting Against Beta', 'ESP'),\n",
       "       ('Equities', 'Betting Against Beta', 'FIN'),\n",
       "       ('Equities', 'Betting Against Beta', 'FRA'),\n",
       "       ('Equities', 'Betting Against Beta', 'GBR'),\n",
       "       ('Equities', 'Betting Against Beta', 'GRC'),\n",
       "       ('Equities', 'Betting Against Beta', 'HKG'),\n",
       "       ('Equities', 'Betting Against Beta', 'IRL'),\n",
       "       ('Equities', 'Betting Against Beta', 'ISR'),\n",
       "       ('Equities', 'Betting Against Beta', 'ITA'),\n",
       "       ('Equities', 'Betting Against Beta', 'JPN'),\n",
       "       ('Equities', 'Betting Against Beta', 'NLD'),\n",
       "       ('Equities', 'Betting Against Beta', 'NOR'),\n",
       "       ('Equities', 'Betting Against Beta', 'NZL'),\n",
       "       ('Equities', 'Betting Against Beta', 'PRT'),\n",
       "       ('Equities', 'Betting Against Beta', 'SGP'),\n",
       "       ('Equities', 'Betting Against Beta', 'SWE'),\n",
       "       ('Equities', 'Betting Against Beta', 'USA'),\n",
       "       ('FX', 'Carry', 'WLD')], dtype=object)"
      ]
     },
     "execution_count": 160,
     "metadata": {},
     "output_type": "execute_result"
    }
   ],
   "source": [
    "combined_factors.index.unique().values"
   ]
  }
 ],
 "metadata": {
  "kernelspec": {
   "display_name": "Python 3",
   "language": "python",
   "name": "python3"
  },
  "language_info": {
   "codemirror_mode": {
    "name": "ipython",
    "version": 3
   },
   "file_extension": ".py",
   "mimetype": "text/x-python",
   "name": "python",
   "nbconvert_exporter": "python",
   "pygments_lexer": "ipython3",
   "version": "3.7.1"
  },
  "toc": {
   "base_numbering": 1,
   "nav_menu": {},
   "number_sections": false,
   "sideBar": false,
   "skip_h1_title": false,
   "title_cell": "Table of Contents",
   "title_sidebar": "Contents",
   "toc_cell": false,
   "toc_position": {},
   "toc_section_display": false,
   "toc_window_display": false
  }
 },
 "nbformat": 4,
 "nbformat_minor": 2
}
