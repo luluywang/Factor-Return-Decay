{
 "cells": [
  {
   "cell_type": "markdown",
   "metadata": {},
   "source": [
    "# Cleaning Return Series for \"Death of Factors\"\n",
    "\n",
    "The goal of this notebook is to go through all of the CSV files to compile a long dataset of returns. The dataset should be structured as\n",
    "\n",
    "Metadata Columns Describing Strategies - Monthly Date - Monthly percentage return\n",
    "\n",
    "The file Data/Index.csv contains a listing of all the factors that we're studying. There's a combination of time series and cross sectional factors, as well as across different asset classes. Most of the data comes from the AQR data library"
   ]
  },
  {
   "cell_type": "markdown",
   "metadata": {},
   "source": [
    "## Cross Sectional Value + Momentum in Other Asset Classes"
   ]
  },
  {
   "cell_type": "code",
   "execution_count": 72,
   "metadata": {},
   "outputs": [],
   "source": [
    "import pandas as pd\n",
    "from pandas.tseries.offsets import MonthEnd\n",
    "import numpy as np\n",
    "from beakerx import *\n",
    "from beakerx.object import beakerx\n",
    "import seaborn as sns\n",
    "import matplotlib.pyplot as plt\n",
    "\n",
    "def drop_missing(self, var_name, inplace = True):\n",
    "    return self.loc[~pd.isnull(self[var_name]), ] \n",
    "pd.DataFrame.drop_missing = drop_missing\n",
    "\n",
    "MASTER_INDEX = ['Asset Class', 'Descriptor', 'Country']"
   ]
  },
  {
   "cell_type": "code",
   "execution_count": 73,
   "metadata": {},
   "outputs": [],
   "source": [
    "aqr_mom_value = pd.read_csv('../Data/CSV/aqr_val_momentum.csv', sep = ',')\n",
    "aqr_mom_value = aqr_mom_value.drop(['VAL', 'MOM', 'VAL^SS', 'MOM^SS', 'VAL^AA', 'MOM^AA'], axis = 1)\\\n",
    "                             .rename(index = str, columns = {'DATE': 'Month_date'})\n",
    "aqr_mom_value['Month_date'] = pd.to_datetime(aqr_mom_value.Month_date, format = '%m/%d/%Y') + MonthEnd(0)"
   ]
  },
  {
   "cell_type": "code",
   "execution_count": 74,
   "metadata": {},
   "outputs": [],
   "source": [
    "# Melt down\n",
    "aqr_mom_value_melt = aqr_mom_value.melt(id_vars = 'Month_date')\n",
    "aqr_mom_value_melt['value'] = pd.to_numeric(aqr_mom_value_melt['value'].str.replace('%', '')) / 100\n",
    "aqr_mom_value_melt = aqr_mom_value_melt.drop_missing('value')\n",
    "var_names = aqr_mom_value_melt['variable'].str.split('_', n = 2, expand = True)\n",
    "aqr_mom_value_melt['Descriptor'] = var_names[0]\n",
    "aqr_mom_value_melt['Country_Asset'] = var_names[2]\n",
    "\n",
    "# Convert to get the asset class names\n",
    "conversion_dict = {'Country_Asset': ['US90', 'UK90', 'ROE90', 'JP90', 'EQ', 'FX', 'FI', 'COM'],\n",
    "                   'Country': ['USA', 'GBR', 'EUR', 'JPN', 'WLD', 'WLD', 'WLD', 'WLD'],\n",
    "                   'Asset Class': ['Equities', 'Equities', 'Equities', 'Equities', 'Equities', 'FX', 'Bonds', 'Cmd']}\n",
    "conversion_frame = pd.DataFrame.from_dict(conversion_dict)\n",
    "\n",
    "# Join to get the names\n",
    "aqr_mom_value_melt.set_index('Country_Asset', inplace = True)\n",
    "conversion_frame.set_index('Country_Asset', inplace = True)\n",
    "aqr_mom_value_melt = aqr_mom_value_melt.join(conversion_frame)\n",
    "\n",
    "# Rename things\n",
    "aqr_mom_value_melt['Descriptor'] = ['Value' if x == 'VALLS' else ('Momentum' if x == 'MOMLS' else np.nan) for x in aqr_mom_value_melt.Descriptor]\n",
    "aqr_mom_value_melt.rename(index = str, columns = {'value': 'Month_ret'}, inplace = True)\n",
    "aqr_mom_value_melt = aqr_mom_value_melt.reset_index().drop(['Country_Asset','variable'], axis = 1)"
   ]
  },
  {
   "cell_type": "code",
   "execution_count": 75,
   "metadata": {},
   "outputs": [],
   "source": [
    "# Drop equities so you can use the longer history UMD, Value series\n",
    "aqr_mom_value_melt = aqr_mom_value_melt.loc[aqr_mom_value_melt['Asset Class'] != 'Equities']"
   ]
  },
  {
   "cell_type": "code",
   "execution_count": 76,
   "metadata": {},
   "outputs": [],
   "source": [
    "def check_data(df):\n",
    "    assert(sorted(df.columns.tolist()) == ['Asset Class', 'Country', 'Descriptor', 'Month_date', 'Month_ret'])\n",
    "    assert(df.dtypes['Month_date'].str == '<M8[ns]')\n",
    "    assert(df.reset_index().loc[df.reset_index().duplicated(['Asset Class', 'Country', 'Descriptor', 'Month_date'])].shape[0] == 0)\n",
    "check_data(aqr_mom_value_melt)"
   ]
  },
  {
   "cell_type": "code",
   "execution_count": 77,
   "metadata": {},
   "outputs": [],
   "source": [
    "aqr_mom_value_melt.set_index(MASTER_INDEX, inplace = True)"
   ]
  },
  {
   "cell_type": "code",
   "execution_count": 78,
   "metadata": {},
   "outputs": [
    {
     "data": {
      "application/vnd.jupyter.widget-view+json": {
       "model_id": "d085f5c49723456fbae7073491406f28",
       "version_major": 2,
       "version_minor": 0
      }
     },
     "metadata": {},
     "output_type": "display_data"
    }
   ],
   "source": [
    "aqr_mom_value_melt"
   ]
  },
  {
   "cell_type": "markdown",
   "metadata": {},
   "source": [
    "# Momentum, Value, and Quality for All Countries"
   ]
  },
  {
   "cell_type": "code",
   "execution_count": 79,
   "metadata": {},
   "outputs": [],
   "source": [
    "aqr_qual = pd.read_csv('../Data/CSV/aqr_quality.csv', sep = ',')\n",
    "aqr_val = pd.read_csv('../Data/CSV/aqr_value.csv', sep = ',')\n",
    "aqr_mom = pd.read_csv('../Data/CSV/aqr_cs_momentum.csv', sep = ',')\n",
    "aqr_bab = pd.read_csv('../Data/CSV/aqr_bab.csv', sep = ',')"
   ]
  },
  {
   "cell_type": "code",
   "execution_count": 80,
   "metadata": {},
   "outputs": [
    {
     "data": {
      "application/vnd.jupyter.widget-view+json": {
       "model_id": "7b5a0dea4ece4e9db82363a0880a4aad",
       "version_major": 2,
       "version_minor": 0
      }
     },
     "metadata": {},
     "output_type": "display_data"
    }
   ],
   "source": [
    "aqr_qual.head()"
   ]
  },
  {
   "cell_type": "code",
   "execution_count": 81,
   "metadata": {
    "scrolled": true
   },
   "outputs": [
    {
     "data": {
      "application/vnd.jupyter.widget-view+json": {
       "model_id": "d695da43f14748d2a6aa50090d0d76be",
       "version_major": 2,
       "version_minor": 0
      }
     },
     "metadata": {},
     "output_type": "display_data"
    }
   ],
   "source": [
    "aqr_val.head()"
   ]
  },
  {
   "cell_type": "code",
   "execution_count": 82,
   "metadata": {},
   "outputs": [
    {
     "data": {
      "application/vnd.jupyter.widget-view+json": {
       "model_id": "d4a270c86d1c44d5900025feb79e6a8d",
       "version_major": 2,
       "version_minor": 0
      }
     },
     "metadata": {},
     "output_type": "display_data"
    }
   ],
   "source": [
    "aqr_mom.head()"
   ]
  },
  {
   "cell_type": "code",
   "execution_count": 83,
   "metadata": {},
   "outputs": [
    {
     "data": {
      "application/vnd.jupyter.widget-view+json": {
       "model_id": "cdd4c07953d946d99362ec76f348ced7",
       "version_major": 2,
       "version_minor": 0
      }
     },
     "metadata": {},
     "output_type": "display_data"
    }
   ],
   "source": [
    "aqr_bab.head()"
   ]
  },
  {
   "cell_type": "code",
   "execution_count": 84,
   "metadata": {},
   "outputs": [],
   "source": [
    "def transform_aqr_csv_file(data, strategy_name):\n",
    "    data['Month_date'] = pd.to_datetime(data['DATE'], format = '%m/%d/%Y') + MonthEnd(0)\n",
    "    data_melt = data.drop(['DATE'], axis = 1).melt(id_vars = 'Month_date')\n",
    "    data_melt['value'] = pd.to_numeric(data_melt['value'].str.replace('%', '')) / 100\n",
    "    data_melt = data_melt.drop_missing('value')\n",
    "\n",
    "    # Make some new variables\n",
    "    data_melt = data_melt.reset_index()\n",
    "    data_melt.rename(index = str, columns = {'variable': 'Country', 'value': 'Month_ret'}, inplace = True)\n",
    "    data_melt['Asset Class'] = 'Equities'\n",
    "    data_melt['Descriptor'] = 'Quality'\n",
    "\n",
    "    # Index\n",
    "    data_melt = data_melt.drop(['index'], axis = 1)\n",
    "    check_data(data_melt)\n",
    "    data_melt = data_melt.set_index(MASTER_INDEX)\n",
    "    return data_melt"
   ]
  },
  {
   "cell_type": "code",
   "execution_count": 85,
   "metadata": {},
   "outputs": [],
   "source": [
    "aqr_raw_frames = [aqr_val, aqr_mom, aqr_qual, aqr_bab]\n",
    "aqr_names = ['Value', 'Momentum', 'Quality', 'Betting Against Beta']\n",
    "long_frames = []\n",
    "\n",
    "for aqr in zip(aqr_raw_frames, aqr_names):\n",
    "    long_frames.append(transform_aqr_csv_file(aqr[0], aqr[1]))"
   ]
  },
  {
   "cell_type": "code",
   "execution_count": 86,
   "metadata": {},
   "outputs": [],
   "source": [
    "all_cleaned_aqr_equity_cross_section_strategies = pd.concat(long_frames)"
   ]
  },
  {
   "cell_type": "code",
   "execution_count": 87,
   "metadata": {
    "scrolled": true
   },
   "outputs": [
    {
     "data": {
      "application/vnd.jupyter.widget-view+json": {
       "model_id": "7131043ce3414696894cef0ff4c2efdc",
       "version_major": 2,
       "version_minor": 0
      }
     },
     "metadata": {},
     "output_type": "display_data"
    }
   ],
   "source": [
    "all_cleaned_aqr_equity_cross_section_strategies.head(100)"
   ]
  },
  {
   "cell_type": "markdown",
   "metadata": {},
   "source": [
    "## Time Series Momentum"
   ]
  },
  {
   "cell_type": "code",
   "execution_count": 88,
   "metadata": {},
   "outputs": [],
   "source": [
    "aqr_ts = pd.read_csv('../Data/CSV/aqr_ts_momentum.csv', sep = ',')\n",
    "aqr_ts = aqr_ts.rename(index = str, columns = {'Date': 'Month_date'})\n",
    "aqr_ts_melt = aqr_ts.drop(['TSMOM'], axis = 1).melt(id_vars = 'Month_date')\n",
    "var_names = aqr_ts_melt['variable'].str.split('^', n = 1, expand = True)\n",
    "\n",
    "asset_class_dict = {'CM': 'Cmd',\n",
    "                    'EQ': 'Equities',\n",
    "                    'FI': 'Bonds',\n",
    "                    'FX': 'FX'}\n",
    "\n",
    "aqr_ts_melt['Descriptor'] = 'TS Momentum'\n",
    "aqr_ts_melt['Asset Class'] = [asset_class_dict[x] for x in var_names.iloc[:, 1]]\n",
    "aqr_ts_melt['Country'] = 'WLD'\n",
    "aqr_ts_melt['value'] = pd.to_numeric(aqr_ts_melt['value'].str.replace('%', '')) / 100\n",
    "aqr_ts_melt.drop(['variable'], axis = 1, inplace = True)\n",
    "aqr_ts_melt.rename(index = str, columns = {'value': 'Month_ret'}, inplace = True)\n",
    "aqr_ts_melt['Month_date'] = pd.to_datetime(aqr_ts_melt['Month_date'], format = '%m/%d/%Y') + MonthEnd(0)\n",
    "\n",
    "check_data(aqr_ts_melt)"
   ]
  },
  {
   "cell_type": "code",
   "execution_count": 89,
   "metadata": {},
   "outputs": [],
   "source": [
    "aqr_ts_melt = aqr_ts_melt.set_index(MASTER_INDEX)"
   ]
  },
  {
   "cell_type": "code",
   "execution_count": 90,
   "metadata": {},
   "outputs": [
    {
     "data": {
      "application/vnd.jupyter.widget-view+json": {
       "model_id": "90b1139a45d7458fa56d8006a315c6e1",
       "version_major": 2,
       "version_minor": 0
      }
     },
     "metadata": {},
     "output_type": "display_data"
    }
   ],
   "source": [
    "aqr_ts_melt"
   ]
  },
  {
   "cell_type": "markdown",
   "metadata": {},
   "source": [
    "# Carry Trade"
   ]
  },
  {
   "cell_type": "code",
   "execution_count": 97,
   "metadata": {},
   "outputs": [],
   "source": [
    "carry = pd.read_csv('../Data/CSV/adrien_carry.csv', sep = ',')\n",
    "carry = carry.rename(columns = {'Dates': 'Month_date', 'HML': 'Month_ret'})\n",
    "carry['Month_date'] = pd.to_datetime(carry['Month_date'], format = '%m/%d/%y')\n",
    "carry['Descriptor'] = 'Carry'\n",
    "carry['Asset Class'] = 'FX'\n",
    "carry['Country'] = 'WLD'\n",
    "carry.set_index(MASTER_INDEX, inplace = True)"
   ]
  },
  {
   "cell_type": "code",
   "execution_count": 98,
   "metadata": {},
   "outputs": [
    {
     "data": {
      "application/vnd.jupyter.widget-view+json": {
       "model_id": "3212bf21e7e9406a9f4cb2a37da6b7f0",
       "version_major": 2,
       "version_minor": 0
      }
     },
     "metadata": {},
     "output_type": "display_data"
    }
   ],
   "source": [
    "carry.tail()"
   ]
  },
  {
   "cell_type": "markdown",
   "metadata": {},
   "source": [
    "## Combine all the data"
   ]
  },
  {
   "cell_type": "code",
   "execution_count": 99,
   "metadata": {},
   "outputs": [],
   "source": [
    "combined_factors = pd.concat([aqr_mom_value_melt, aqr_ts_melt, all_cleaned_aqr_equity_cross_section_strategies, carry], sort = False)\n",
    "store = pd.HDFStore('../Data/data.h5')\n",
    "store.put('all_factors', combined_factors)\n",
    "store.close()"
   ]
  },
  {
   "cell_type": "code",
   "execution_count": 100,
   "metadata": {},
   "outputs": [
    {
     "data": {
      "text/plain": [
       "(39820, 1)"
      ]
     },
     "execution_count": 100,
     "metadata": {},
     "output_type": "execute_result"
    }
   ],
   "source": [
    "combined_factors.shape"
   ]
  },
  {
   "cell_type": "code",
   "execution_count": 101,
   "metadata": {},
   "outputs": [
    {
     "data": {
      "application/vnd.jupyter.widget-view+json": {
       "model_id": "e0540e94f3a044b1a9e52f1c741deafc",
       "version_major": 2,
       "version_minor": 0
      }
     },
     "metadata": {},
     "output_type": "display_data"
    }
   ],
   "source": [
    "combined_factors.head()"
   ]
  }
 ],
 "metadata": {
  "kernelspec": {
   "display_name": "Python 3",
   "language": "python",
   "name": "python3"
  },
  "language_info": {
   "codemirror_mode": {
    "name": "ipython",
    "version": 3
   },
   "file_extension": ".py",
   "mimetype": "text/x-python",
   "name": "python",
   "nbconvert_exporter": "python",
   "pygments_lexer": "ipython3",
   "version": "3.7.1"
  },
  "toc": {
   "base_numbering": 1,
   "nav_menu": {},
   "number_sections": false,
   "sideBar": false,
   "skip_h1_title": false,
   "title_cell": "Table of Contents",
   "title_sidebar": "Contents",
   "toc_cell": false,
   "toc_position": {},
   "toc_section_display": false,
   "toc_window_display": false
  }
 },
 "nbformat": 4,
 "nbformat_minor": 2
}
