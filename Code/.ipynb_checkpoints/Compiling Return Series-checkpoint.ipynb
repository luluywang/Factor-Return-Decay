{
 "cells": [
  {
   "cell_type": "markdown",
   "metadata": {},
   "source": [
    "# Cleaning Return Series for \"Death of Factors\"\n",
    "\n",
    "The goal of this notebook is to go through all of the CSV files to compile a long dataset of returns. The dataset should be structured as\n",
    "\n",
    "Metadata Columns Describing Strategies - Monthly Date - Monthly percentage return\n",
    "\n",
    "The file Data/Index.csv contains a listing of all the factors that we're studying. There's a combination of time series and cross sectional factors, as well as across different asset classes. Most of the data comes from the AQR data library"
   ]
  },
  {
   "cell_type": "markdown",
   "metadata": {},
   "source": [
    "## Cross Sectional Value + Momentum"
   ]
  },
  {
   "cell_type": "code",
   "execution_count": 11,
   "metadata": {},
   "outputs": [],
   "source": [
    "import pandas as pd\n",
    "from pandas.tseries.offsets import MonthEnd\n",
    "import numpy as np\n",
    "from beakerx import *\n",
    "from beakerx.object import beakerx\n",
    "import seaborn as sns\n",
    "import matplotlib.pyplot as plt\n",
    "\n",
    "def drop_missing(self, var_name, inplace = True):\n",
    "    return self.loc[~pd.isnull(self[var_name]), ] \n",
    "pd.DataFrame.drop_missing = drop_missing"
   ]
  },
  {
   "cell_type": "code",
   "execution_count": 12,
   "metadata": {},
   "outputs": [],
   "source": [
    "aqr_mom_value = pd.read_csv('../Data/CSV/aqr_val_momentum.csv', sep = ',')\n",
    "aqr_mom_value = aqr_mom_value.drop(['VAL', 'MOM', 'VAL^SS', 'MOM^SS', 'VAL^AA', 'MOM^AA'], axis = 1)\\\n",
    "                             .rename(index = str, columns = {'DATE': 'Month_date'})\n",
    "aqr_mom_value['Month_date'] = pd.to_datetime(aqr_mom_value.Month_date, format = '%m/%d/%Y') + MonthEnd(0)"
   ]
  },
  {
   "cell_type": "code",
   "execution_count": 13,
   "metadata": {},
   "outputs": [],
   "source": [
    "# Melt down\n",
    "aqr_mom_value_melt = aqr_mom_value.melt(id_vars = 'Month_date')\n",
    "aqr_mom_value_melt['value'] = pd.to_numeric(aqr_mom_value_melt['value'].str.replace('%', '')) / 100\n",
    "aqr_mom_value_melt = aqr_mom_value_melt.drop_missing('value')\n",
    "var_names = aqr_mom_value_melt['variable'].str.split('_', n = 2, expand = True)\n",
    "aqr_mom_value_melt['Descriptor'] = var_names[0]\n",
    "aqr_mom_value_melt['Country_Asset'] = var_names[2]\n",
    "\n",
    "# Convert to get the asset class names\n",
    "conversion_dict = {'Country_Asset': ['US90', 'UK90', 'ROE90', 'JP90', 'EQ', 'FX', 'FI', 'COM'],\n",
    "                   'Country': ['USA', 'GBR', 'EUR', 'JPN', 'WLD', 'WLD', 'WLD', 'WLD'],\n",
    "                   'Asset Class': ['Equities', 'Equities', 'Equities', 'Equities', 'Equities', 'FX', 'Bonds', 'Cmd']}\n",
    "conversion_frame = pd.DataFrame.from_dict(conversion_dict)\n",
    "\n",
    "# Join to get the names\n",
    "aqr_mom_value_melt.set_index('Country_Asset', inplace = True)\n",
    "conversion_frame.set_index('Country_Asset', inplace = True)\n",
    "aqr_mom_value_melt = aqr_mom_value_melt.join(conversion_frame)\n",
    "\n",
    "# Rename things\n",
    "aqr_mom_value_melt['Descriptor'] = ['Value' if x == 'VALLS' else ('Momentum' if x == 'MOMLS' else np.nan) for x in aqr_mom_value_melt.Descriptor]\n",
    "aqr_mom_value_melt.rename(index = str, columns = {'value': 'Month_ret'}, inplace = True)\n",
    "aqr_mom_value_melt = aqr_mom_value_melt.reset_index().drop(['Country_Asset','variable'], axis = 1)"
   ]
  },
  {
   "cell_type": "code",
   "execution_count": 14,
   "metadata": {},
   "outputs": [],
   "source": [
    "def check_data(df):\n",
    "    assert(sorted(df.columns.tolist()) == ['Asset Class', 'Country', 'Descriptor', 'Month_date', 'Month_ret'])\n",
    "    assert(df.dtypes['Month_date'].str == '<M8[ns]')\n",
    "    assert(df.reset_index().loc[df.reset_index().duplicated(['Asset Class', 'Country', 'Descriptor', 'Month_date'])].shape[0] == 0)\n",
    "check_data(aqr_mom_value_melt)"
   ]
  },
  {
   "cell_type": "code",
   "execution_count": 15,
   "metadata": {},
   "outputs": [],
   "source": [
    "aqr_mom_value_melt.set_index(['Asset Class', 'Descriptor', 'Country'], inplace = True)"
   ]
  },
  {
   "cell_type": "markdown",
   "metadata": {},
   "source": [
    "## Quality"
   ]
  },
  {
   "cell_type": "code",
   "execution_count": 16,
   "metadata": {},
   "outputs": [],
   "source": [
    "aqr_qual = pd.read_csv('../Data/CSV/aqr_quality.csv', sep = ',')\n",
    "aqr_qual['Month_date'] = pd.to_datetime(aqr_qual['DATE'], format = '%m/%d/%Y') + MonthEnd(0)\n",
    "aqr_qual_melt = aqr_qual.drop(['DATE'], axis = 1).melt(id_vars = 'Month_date')\n",
    "aqr_qual_melt['value'] = pd.to_numeric(aqr_qual_melt['value'].str.replace('%', '')) / 100\n",
    "aqr_qual_melt = aqr_qual_melt.drop_missing('value')\n",
    "\n",
    "# Make some new variables\n",
    "aqr_qual_melt = aqr_qual_melt.reset_index()\n",
    "aqr_qual_melt.rename(index = str, columns = {'variable': 'Country', 'value': 'Month_ret'}, inplace = True)\n",
    "aqr_qual_melt['Asset Class'] = 'Equities'\n",
    "aqr_qual_melt['Descriptor'] = 'Quality'\n",
    "\n",
    "# Index\n",
    "aqr_qual_melt = aqr_qual_melt.drop(['index'], axis = 1)\n",
    "check_data(aqr_qual_melt)\n",
    "aqr_qual_melt = aqr_qual_melt.set_index(['Asset Class', 'Descriptor', 'Country'])"
   ]
  },
  {
   "cell_type": "code",
   "execution_count": 17,
   "metadata": {},
   "outputs": [
    {
     "data": {
      "application/vnd.jupyter.widget-view+json": {
       "model_id": "7cb235f412184b5f9bca17f6911c6d14",
       "version_major": 2,
       "version_minor": 0
      }
     },
     "metadata": {},
     "output_type": "display_data"
    }
   ],
   "source": [
    "aqr_qual_melt"
   ]
  },
  {
   "cell_type": "markdown",
   "metadata": {},
   "source": [
    "## Time Series Momentum"
   ]
  },
  {
   "cell_type": "code",
   "execution_count": 18,
   "metadata": {},
   "outputs": [],
   "source": [
    "aqr_ts = pd.read_csv('../Data/CSV/aqr_ts_momentum.csv', sep = ',')\n",
    "aqr_ts = aqr_ts.rename(index = str, columns = {'Date': 'Month_date'})\n",
    "aqr_ts_melt = aqr_ts.drop(['TSMOM'], axis = 1).melt(id_vars = 'Month_date')\n",
    "var_names = aqr_ts_melt['variable'].str.split('^', n = 1, expand = True)\n",
    "\n",
    "asset_class_dict = {'CM': 'Cmd',\n",
    "                    'EQ': 'Equities',\n",
    "                    'FI': 'Bonds',\n",
    "                    'FX': 'FX'}\n",
    "\n",
    "aqr_ts_melt['Descriptor'] = 'TS Momentum'\n",
    "aqr_ts_melt['Asset Class'] = [asset_class_dict[x] for x in var_names.iloc[:, 1]]\n",
    "aqr_ts_melt['Country'] = 'WLD'\n",
    "aqr_ts_melt['value'] = pd.to_numeric(aqr_ts_melt['value'].str.replace('%', '')) / 100\n",
    "aqr_ts_melt.drop(['variable'], axis = 1, inplace = True)\n",
    "aqr_ts_melt.rename(index = str, columns = {'value': 'Month_ret'}, inplace = True)\n",
    "aqr_ts_melt['Month_date'] = pd.to_datetime(aqr_ts_melt['Month_date'], format = '%m/%d/%Y') + MonthEnd(0)\n",
    "\n",
    "check_data(aqr_ts_melt)"
   ]
  },
  {
   "cell_type": "code",
   "execution_count": 19,
   "metadata": {},
   "outputs": [],
   "source": [
    "aqr_ts_melt = aqr_ts_melt.set_index(['Asset Class', 'Descriptor', 'Country'])"
   ]
  },
  {
   "cell_type": "code",
   "execution_count": 20,
   "metadata": {},
   "outputs": [
    {
     "data": {
      "application/vnd.jupyter.widget-view+json": {
       "model_id": "7399d2a154c0419dad1e8054bda4f5a8",
       "version_major": 2,
       "version_minor": 0
      }
     },
     "metadata": {},
     "output_type": "display_data"
    }
   ],
   "source": [
    "aqr_ts_melt"
   ]
  },
  {
   "cell_type": "markdown",
   "metadata": {},
   "source": [
    "## Combine all the data"
   ]
  },
  {
   "cell_type": "code",
   "execution_count": 21,
   "metadata": {},
   "outputs": [],
   "source": [
    "combined_factors = pd.concat([aqr_mom_value_melt, aqr_ts_melt, aqr_qual_melt], sort = False)\n",
    "store = pd.HDFStore('../Data/data.h5')\n",
    "store.put('all_factors', combined_factors)\n",
    "store.close()"
   ]
  }
 ],
 "metadata": {
  "kernelspec": {
   "display_name": "Python 3",
   "language": "python",
   "name": "python3"
  },
  "language_info": {
   "codemirror_mode": {
    "name": "ipython",
    "version": 3
   },
   "file_extension": ".py",
   "mimetype": "text/x-python",
   "name": "python",
   "nbconvert_exporter": "python",
   "pygments_lexer": "ipython3",
   "version": "3.7.1"
  },
  "toc": {
   "base_numbering": 1,
   "nav_menu": {},
   "number_sections": false,
   "sideBar": false,
   "skip_h1_title": false,
   "title_cell": "Table of Contents",
   "title_sidebar": "Contents",
   "toc_cell": false,
   "toc_position": {},
   "toc_section_display": false,
   "toc_window_display": false
  }
 },
 "nbformat": 4,
 "nbformat_minor": 2
}
