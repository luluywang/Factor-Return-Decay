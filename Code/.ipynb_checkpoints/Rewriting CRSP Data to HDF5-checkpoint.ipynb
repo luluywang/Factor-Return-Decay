{
 "cells": [
  {
   "cell_type": "code",
   "execution_count": 106,
   "metadata": {},
   "outputs": [],
   "source": [
    "import pandas as pd\n",
    "from copy import *"
   ]
  },
  {
   "cell_type": "code",
   "execution_count": 104,
   "metadata": {},
   "outputs": [],
   "source": [
    "# Read in the data\n",
    "summary_raw = pd.read_csv('~/Data/CRSP_MF/summary.txt', sep='\\t', low_memory = False)"
   ]
  },
  {
   "cell_type": "code",
   "execution_count": 95,
   "metadata": {},
   "outputs": [],
   "source": [
    "returns_raw = pd.read_csv('~/Data/CRSP_MF/returns.txt', sep = '\\t', low_memory = False)"
   ]
  },
  {
   "cell_type": "code",
   "execution_count": 86,
   "metadata": {},
   "outputs": [
    {
     "name": "stdout",
     "output_type": "stream",
     "text": [
      "[('summary_period2', dtype('O')), ('crsp_fundno', dtype('int64')), ('caldt', dtype('O')), ('nav_latest', dtype('float64')), ('nav_latest_dt', dtype('O')), ('tna_latest', dtype('O')), ('tna_latest_dt', dtype('O')), ('per_com', dtype('float64')), ('per_oth', dtype('float64')), ('per_cash', dtype('float64')), ('per_bond', dtype('float64')), ('cusip8', dtype('O')), ('crsp_portno', dtype('float64')), ('crsp_cl_grp', dtype('float64')), ('fund_name', dtype('O')), ('mgmt_name', dtype('O')), ('mgmt_cd', dtype('O')), ('mgr_name', dtype('O')), ('mgr_dt', dtype('O')), ('retail_fund', dtype('O')), ('inst_fund', dtype('O')), ('index_fund_flag', dtype('O')), ('vau_fund', dtype('O')), ('et_flag', dtype('O')), ('delist_cd', dtype('O')), ('first_offer_dt', dtype('O')), ('dead_flag', dtype('O')), ('merge_fundno', dtype('float64')), ('exp_ratio', dtype('float64')), ('mgmt_fee', dtype('float64')), ('turn_ratio', dtype('float64')), ('crsp_obj_cd', dtype('O')), ('lipper_class', dtype('O')), ('lipper_class_name', dtype('O')), ('lipper_obj_cd', dtype('O')), ('lipper_obj_name', dtype('O')), ('lipper_asset_cd', dtype('O'))]\n"
     ]
    }
   ],
   "source": [
    "# Print out the data types\n",
    "datatypes = zip(summary.columns, summary.dtypes)\n",
    "print(list(datatypes), sep = '\\n')"
   ]
  },
  {
   "cell_type": "code",
   "execution_count": 87,
   "metadata": {},
   "outputs": [
    {
     "name": "stdout",
     "output_type": "stream",
     "text": [
      "caldt           object\n",
      "crsp_fundno      int64\n",
      "mtna           float64\n",
      "mret            object\n",
      "mnav           float64\n",
      "dtype: object\n"
     ]
    }
   ],
   "source": [
    "print(returns.dtypes)"
   ]
  },
  {
   "cell_type": "code",
   "execution_count": 103,
   "metadata": {},
   "outputs": [
    {
     "data": {
      "application/vnd.jupyter.widget-view+json": {
       "model_id": "5602f92af4614c3c9e3366756d2b274d",
       "version_major": 2,
       "version_minor": 0
      }
     },
     "metadata": {},
     "output_type": "display_data"
    }
   ],
   "source": [
    "summary_raw[0:10]"
   ]
  },
  {
   "cell_type": "code",
   "execution_count": 154,
   "metadata": {},
   "outputs": [
    {
     "name": "stdout",
     "output_type": "stream",
     "text": [
      "caldt\n",
      "nav_latest_dt\n",
      "tna_latest_dt\n",
      "first_offer_dt\n"
     ]
    }
   ],
   "source": [
    "# Clean the data types\n",
    "summary = copy(summary_raw)\n",
    "date_vars = ['caldt', 'nav_latest_dt', 'tna_latest_dt', 'first_offer_dt']\n",
    "for v in date_vars:\n",
    "    print(v)\n",
    "    summary[v] = pd.to_datetime(summary[v], format = '%Y/%m/%d', errors = 'coerce', cache = True, utc = True) + pd.offsets.YearEnd(month = 12)"
   ]
  },
  {
   "cell_type": "code",
   "execution_count": 158,
   "metadata": {},
   "outputs": [],
   "source": [
    "# Clean the date types in returns\n",
    "returns = copy(returns_raw)\n",
    "returns['caldt'] = pd.to_datetime(returns['caldt'], format = '%Y/%m/%d', errors = 'coerce', cache = True, utc = True) + pd.offsets.YearEnd(month = 12)"
   ]
  },
  {
   "cell_type": "code",
   "execution_count": 159,
   "metadata": {},
   "outputs": [
    {
     "data": {
      "application/vnd.jupyter.widget-view+json": {
       "model_id": "bcaaa7568acd4589bf8de1e28e445d62",
       "version_major": 2,
       "version_minor": 0
      }
     },
     "metadata": {},
     "output_type": "display_data"
    }
   ],
   "source": [
    "returns[0:10]"
   ]
  },
  {
   "cell_type": "code",
   "execution_count": 160,
   "metadata": {},
   "outputs": [
    {
     "name": "stderr",
     "output_type": "stream",
     "text": [
      "/Users/yichuanwang/anaconda3/envs/death-of-factors/lib/python3.7/site-packages/IPython/core/interactiveshell.py:3185: PerformanceWarning: \n",
      "your performance may suffer as PyTables will pickle object types that it cannot\n",
      "map directly to c-types [inferred_type->mixed,key->block6_values] [items->['summary_period2', 'tna_latest', 'cusip8', 'fund_name', 'mgmt_name', 'mgmt_cd', 'mgr_name', 'mgr_dt', 'retail_fund', 'inst_fund', 'index_fund_flag', 'vau_fund', 'et_flag', 'delist_cd', 'dead_flag', 'crsp_obj_cd', 'lipper_class', 'lipper_class_name', 'lipper_obj_cd', 'lipper_obj_name', 'lipper_asset_cd']]\n",
      "\n",
      "  if (yield from self.run_code(code, result)):\n",
      "/Users/yichuanwang/anaconda3/envs/death-of-factors/lib/python3.7/site-packages/IPython/core/interactiveshell.py:3185: PerformanceWarning: \n",
      "your performance may suffer as PyTables will pickle object types that it cannot\n",
      "map directly to c-types [inferred_type->mixed,key->block2_values] [items->['mret']]\n",
      "\n",
      "  if (yield from self.run_code(code, result)):\n"
     ]
    }
   ],
   "source": [
    "store = pd.HDFStore('../Data/data.h5')\n",
    "store.put('summary', summary)\n",
    "store.put('returns', returns)\n",
    "store.close()"
   ]
  }
 ],
 "metadata": {
  "kernelspec": {
   "display_name": "Python 3",
   "language": "python",
   "name": "python3"
  },
  "language_info": {
   "codemirror_mode": {
    "name": "ipython",
    "version": 3
   },
   "file_extension": ".py",
   "mimetype": "text/x-python",
   "name": "python",
   "nbconvert_exporter": "python",
   "pygments_lexer": "ipython3",
   "version": "3.7.1"
  }
 },
 "nbformat": 4,
 "nbformat_minor": 2
}
